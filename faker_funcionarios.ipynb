{
 "cells": [
  {
   "cell_type": "code",
   "execution_count": 2,
   "metadata": {},
   "outputs": [],
   "source": [
    "from faker import Faker\n",
    "import random\n",
    "import pandas as pd\n"
   ]
  },
  {
   "cell_type": "code",
   "execution_count": 3,
   "metadata": {},
   "outputs": [],
   "source": [
    "\n",
    "# Inicializando o Faker\n",
    "fake = Faker('pt_BR')\n",
    "\n",
    "# Listas de cargos e setores fictícios\n",
    "cargos = ['Analista de Dados', 'Engenheiro de Software', 'Gerente de Projetos', 'Diretor Financeiro', 'Analista de RH', 'Desenvolvedor Web', 'Cientista de Dados', 'Designer UX', 'Administrador de Redes', 'Consultor de Negócios']\n",
    "setores = ['TI', 'Financeiro', 'Recursos Humanos', 'Marketing', 'Operações', 'Vendas', 'Logística', 'Pesquisa e Desenvolvimento']\n",
    "\n",
    "# Gerando os dados\n",
    "dados = []\n",
    "for i in range(1, 15987):\n",
    "    nome = fake.name()\n",
    "    data_nascimento = fake.date_of_birth(minimum_age=18, maximum_age=65).strftime('%Y-%m-%d')\n",
    "    cargo = random.choice(cargos)\n",
    "    salario = round(random.uniform(3000, 25000), 2)  # Salário entre 3.000 e 25.000\n",
    "    sexo = random.choice(['Masculino', 'Feminino'])\n",
    "    setor = random.choice(setores)\n",
    "    id_funcionario = i  # ID sequencial\n",
    "    \n",
    "    dados.append([id_funcionario, nome, data_nascimento, cargo, salario, sexo, setor])\n",
    "\n",
    "# Criando DataFrame\n",
    "colunas = ['ID', 'Nome', 'Data de Nascimento', 'Cargo', 'Salário', 'Sexo', 'Setor de Atuação']\n",
    "df = pd.DataFrame(dados, columns=colunas)\n",
    "\n"
   ]
  },
  {
   "cell_type": "code",
   "execution_count": null,
   "metadata": {},
   "outputs": [
    {
     "data": {
      "application/vnd.microsoft.datawrangler.viewer.v0+json": {
       "columns": [
        {
         "name": "index",
         "rawType": "int64",
         "type": "integer"
        },
        {
         "name": "ID",
         "rawType": "int64",
         "type": "integer"
        },
        {
         "name": "Nome",
         "rawType": "object",
         "type": "string"
        },
        {
         "name": "Data de Nascimento",
         "rawType": "object",
         "type": "string"
        },
        {
         "name": "Cargo",
         "rawType": "object",
         "type": "string"
        },
        {
         "name": "Salário",
         "rawType": "float64",
         "type": "float"
        },
        {
         "name": "Sexo",
         "rawType": "object",
         "type": "string"
        },
        {
         "name": "Setor de Atuação",
         "rawType": "object",
         "type": "string"
        },
        {
         "name": "Data_admissao",
         "rawType": "datetime64[ns]",
         "type": "datetime"
        }
       ],
       "conversionMethod": "pd.DataFrame",
       "ref": "cf446e7c-e919-4860-a26c-e9fbb7077377",
       "rows": [
        [
         "0",
         "1",
         "Luiz Gustavo Fernandes",
         "1962-06-12",
         "Designer UX",
         "7628.02",
         "Masculino",
         "Operações",
         "2018-01-12 00:00:00"
        ],
        [
         "1",
         "2",
         "Daniel Farias",
         "1981-01-22",
         "Consultor de Negócios",
         "16155.68",
         "Feminino",
         "Financeiro",
         "2021-07-08 00:00:00"
        ],
        [
         "2",
         "3",
         "Dra. Gabrielly Vargas",
         "1978-10-30",
         "Gerente de Projetos",
         "24299.37",
         "Masculino",
         "Pesquisa e Desenvolvimento",
         "2020-09-11 00:00:00"
        ],
        [
         "3",
         "4",
         "Benjamin Costela",
         "1996-09-11",
         "Cientista de Dados",
         "16771.97",
         "Masculino",
         "Pesquisa e Desenvolvimento",
         "2018-12-14 00:00:00"
        ],
        [
         "4",
         "5",
         "Rodrigo Alves",
         "1965-09-06",
         "Cientista de Dados",
         "12558.44",
         "Feminino",
         "Financeiro",
         "2017-07-01 00:00:00"
        ]
       ],
       "shape": {
        "columns": 8,
        "rows": 5
       }
      },
      "text/html": [
       "<div>\n",
       "<style scoped>\n",
       "    .dataframe tbody tr th:only-of-type {\n",
       "        vertical-align: middle;\n",
       "    }\n",
       "\n",
       "    .dataframe tbody tr th {\n",
       "        vertical-align: top;\n",
       "    }\n",
       "\n",
       "    .dataframe thead th {\n",
       "        text-align: right;\n",
       "    }\n",
       "</style>\n",
       "<table border=\"1\" class=\"dataframe\">\n",
       "  <thead>\n",
       "    <tr style=\"text-align: right;\">\n",
       "      <th></th>\n",
       "      <th>ID</th>\n",
       "      <th>Nome</th>\n",
       "      <th>Data de Nascimento</th>\n",
       "      <th>Cargo</th>\n",
       "      <th>Salário</th>\n",
       "      <th>Sexo</th>\n",
       "      <th>Setor de Atuação</th>\n",
       "      <th>Data_admissao</th>\n",
       "    </tr>\n",
       "  </thead>\n",
       "  <tbody>\n",
       "    <tr>\n",
       "      <th>0</th>\n",
       "      <td>1</td>\n",
       "      <td>Luiz Gustavo Fernandes</td>\n",
       "      <td>1962-06-12</td>\n",
       "      <td>Designer UX</td>\n",
       "      <td>7628.02</td>\n",
       "      <td>Masculino</td>\n",
       "      <td>Operações</td>\n",
       "      <td>2018-01-12</td>\n",
       "    </tr>\n",
       "    <tr>\n",
       "      <th>1</th>\n",
       "      <td>2</td>\n",
       "      <td>Daniel Farias</td>\n",
       "      <td>1981-01-22</td>\n",
       "      <td>Consultor de Negócios</td>\n",
       "      <td>16155.68</td>\n",
       "      <td>Feminino</td>\n",
       "      <td>Financeiro</td>\n",
       "      <td>2021-07-08</td>\n",
       "    </tr>\n",
       "    <tr>\n",
       "      <th>2</th>\n",
       "      <td>3</td>\n",
       "      <td>Dra. Gabrielly Vargas</td>\n",
       "      <td>1978-10-30</td>\n",
       "      <td>Gerente de Projetos</td>\n",
       "      <td>24299.37</td>\n",
       "      <td>Masculino</td>\n",
       "      <td>Pesquisa e Desenvolvimento</td>\n",
       "      <td>2020-09-11</td>\n",
       "    </tr>\n",
       "    <tr>\n",
       "      <th>3</th>\n",
       "      <td>4</td>\n",
       "      <td>Benjamin Costela</td>\n",
       "      <td>1996-09-11</td>\n",
       "      <td>Cientista de Dados</td>\n",
       "      <td>16771.97</td>\n",
       "      <td>Masculino</td>\n",
       "      <td>Pesquisa e Desenvolvimento</td>\n",
       "      <td>2018-12-14</td>\n",
       "    </tr>\n",
       "    <tr>\n",
       "      <th>4</th>\n",
       "      <td>5</td>\n",
       "      <td>Rodrigo Alves</td>\n",
       "      <td>1965-09-06</td>\n",
       "      <td>Cientista de Dados</td>\n",
       "      <td>12558.44</td>\n",
       "      <td>Feminino</td>\n",
       "      <td>Financeiro</td>\n",
       "      <td>2017-07-01</td>\n",
       "    </tr>\n",
       "  </tbody>\n",
       "</table>\n",
       "</div>"
      ],
      "text/plain": [
       "   ID                    Nome Data de Nascimento                  Cargo  \\\n",
       "0   1  Luiz Gustavo Fernandes         1962-06-12            Designer UX   \n",
       "1   2           Daniel Farias         1981-01-22  Consultor de Negócios   \n",
       "2   3   Dra. Gabrielly Vargas         1978-10-30    Gerente de Projetos   \n",
       "3   4        Benjamin Costela         1996-09-11     Cientista de Dados   \n",
       "4   5           Rodrigo Alves         1965-09-06     Cientista de Dados   \n",
       "\n",
       "    Salário       Sexo            Setor de Atuação Data_admissao  \n",
       "0   7628.02  Masculino                   Operações    2018-01-12  \n",
       "1  16155.68   Feminino                  Financeiro    2021-07-08  \n",
       "2  24299.37  Masculino  Pesquisa e Desenvolvimento    2020-09-11  \n",
       "3  16771.97  Masculino  Pesquisa e Desenvolvimento    2018-12-14  \n",
       "4  12558.44   Feminino                  Financeiro    2017-07-01  "
      ]
     },
     "execution_count": 4,
     "metadata": {},
     "output_type": "execute_result"
    }
   ],
   "source": [
    "start_date = pd.to_datetime(\"2010-01-01\")\n",
    "end_date = pd.to_datetime(\"2024-12-31\")\n",
    "days_between = (end_date - start_date).days\n",
    "\n",
    "df[\"Data_admissao\"] = [start_date + pd.Timedelta(days=random.randint(0, days_between)) for _ in range(len(df))]\n"
   ]
  }
 ],
 "metadata": {
  "kernelspec": {
   "display_name": "base",
   "language": "python",
   "name": "python3"
  },
  "language_info": {
   "codemirror_mode": {
    "name": "ipython",
    "version": 3
   },
   "file_extension": ".py",
   "mimetype": "text/x-python",
   "name": "python",
   "nbconvert_exporter": "python",
   "pygments_lexer": "ipython3",
   "version": "3.11.7"
  }
 },
 "nbformat": 4,
 "nbformat_minor": 2
}

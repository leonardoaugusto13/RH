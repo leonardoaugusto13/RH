{
 "cells": [
  {
   "cell_type": "code",
   "execution_count": 1,
   "metadata": {},
   "outputs": [],
   "source": [
    "from faker import Faker\n",
    "import random\n",
    "import pandas as pd\n"
   ]
  },
  {
   "cell_type": "code",
   "execution_count": 2,
   "metadata": {},
   "outputs": [
    {
     "data": {
      "application/vnd.microsoft.datawrangler.viewer.v0+json": {
       "columns": [
        {
         "name": "index",
         "rawType": "int64",
         "type": "integer"
        },
        {
         "name": "ID",
         "rawType": "int64",
         "type": "integer"
        },
        {
         "name": "Nome",
         "rawType": "object",
         "type": "string"
        },
        {
         "name": "Data de Nascimento",
         "rawType": "object",
         "type": "string"
        },
        {
         "name": "Cargo",
         "rawType": "object",
         "type": "string"
        },
        {
         "name": "Salário",
         "rawType": "float64",
         "type": "float"
        },
        {
         "name": "Sexo",
         "rawType": "object",
         "type": "string"
        },
        {
         "name": "Setor de Atuação",
         "rawType": "object",
         "type": "string"
        }
       ],
       "conversionMethod": "pd.DataFrame",
       "ref": "81b7278a-0455-4e69-acfc-3f6ef7917f90",
       "rows": [
        [
         "0",
         "1",
         "Maria Luísa Vasconcelos",
         "1982-09-25",
         "Administrador de Redes",
         "11741.42",
         "Feminino",
         "TI"
        ],
        [
         "1",
         "2",
         "Sr. Léo Aragão",
         "1988-03-16",
         "Analista de Dados",
         "8811.35",
         "Masculino",
         "TI"
        ],
        [
         "2",
         "3",
         "Esther Teixeira",
         "1992-12-03",
         "Especialista em Logística",
         "11473.27",
         "Feminino",
         "Logística"
        ],
        [
         "3",
         "4",
         "Mateus Martins",
         "1985-11-28",
         "Analista Financeiro",
         "8025.21",
         "Masculino",
         "Financeiro"
        ],
        [
         "4",
         "5",
         "Bento Sales",
         "1968-11-18",
         "Coordenador de Marketing",
         "10034.75",
         "Masculino",
         "Marketing"
        ]
       ],
       "shape": {
        "columns": 7,
        "rows": 5
       }
      },
      "text/html": [
       "<div>\n",
       "<style scoped>\n",
       "    .dataframe tbody tr th:only-of-type {\n",
       "        vertical-align: middle;\n",
       "    }\n",
       "\n",
       "    .dataframe tbody tr th {\n",
       "        vertical-align: top;\n",
       "    }\n",
       "\n",
       "    .dataframe thead th {\n",
       "        text-align: right;\n",
       "    }\n",
       "</style>\n",
       "<table border=\"1\" class=\"dataframe\">\n",
       "  <thead>\n",
       "    <tr style=\"text-align: right;\">\n",
       "      <th></th>\n",
       "      <th>ID</th>\n",
       "      <th>Nome</th>\n",
       "      <th>Data de Nascimento</th>\n",
       "      <th>Cargo</th>\n",
       "      <th>Salário</th>\n",
       "      <th>Sexo</th>\n",
       "      <th>Setor de Atuação</th>\n",
       "    </tr>\n",
       "  </thead>\n",
       "  <tbody>\n",
       "    <tr>\n",
       "      <th>0</th>\n",
       "      <td>1</td>\n",
       "      <td>Maria Luísa Vasconcelos</td>\n",
       "      <td>1982-09-25</td>\n",
       "      <td>Administrador de Redes</td>\n",
       "      <td>11741.42</td>\n",
       "      <td>Feminino</td>\n",
       "      <td>TI</td>\n",
       "    </tr>\n",
       "    <tr>\n",
       "      <th>1</th>\n",
       "      <td>2</td>\n",
       "      <td>Sr. Léo Aragão</td>\n",
       "      <td>1988-03-16</td>\n",
       "      <td>Analista de Dados</td>\n",
       "      <td>8811.35</td>\n",
       "      <td>Masculino</td>\n",
       "      <td>TI</td>\n",
       "    </tr>\n",
       "    <tr>\n",
       "      <th>2</th>\n",
       "      <td>3</td>\n",
       "      <td>Esther Teixeira</td>\n",
       "      <td>1992-12-03</td>\n",
       "      <td>Especialista em Logística</td>\n",
       "      <td>11473.27</td>\n",
       "      <td>Feminino</td>\n",
       "      <td>Logística</td>\n",
       "    </tr>\n",
       "    <tr>\n",
       "      <th>3</th>\n",
       "      <td>4</td>\n",
       "      <td>Mateus Martins</td>\n",
       "      <td>1985-11-28</td>\n",
       "      <td>Analista Financeiro</td>\n",
       "      <td>8025.21</td>\n",
       "      <td>Masculino</td>\n",
       "      <td>Financeiro</td>\n",
       "    </tr>\n",
       "    <tr>\n",
       "      <th>4</th>\n",
       "      <td>5</td>\n",
       "      <td>Bento Sales</td>\n",
       "      <td>1968-11-18</td>\n",
       "      <td>Coordenador de Marketing</td>\n",
       "      <td>10034.75</td>\n",
       "      <td>Masculino</td>\n",
       "      <td>Marketing</td>\n",
       "    </tr>\n",
       "  </tbody>\n",
       "</table>\n",
       "</div>"
      ],
      "text/plain": [
       "   ID                     Nome Data de Nascimento                      Cargo  \\\n",
       "0   1  Maria Luísa Vasconcelos         1982-09-25     Administrador de Redes   \n",
       "1   2           Sr. Léo Aragão         1988-03-16          Analista de Dados   \n",
       "2   3          Esther Teixeira         1992-12-03  Especialista em Logística   \n",
       "3   4           Mateus Martins         1985-11-28        Analista Financeiro   \n",
       "4   5              Bento Sales         1968-11-18   Coordenador de Marketing   \n",
       "\n",
       "    Salário       Sexo Setor de Atuação  \n",
       "0  11741.42   Feminino               TI  \n",
       "1   8811.35  Masculino               TI  \n",
       "2  11473.27   Feminino        Logística  \n",
       "3   8025.21  Masculino       Financeiro  \n",
       "4  10034.75  Masculino        Marketing  "
      ]
     },
     "execution_count": 2,
     "metadata": {},
     "output_type": "execute_result"
    }
   ],
   "source": [
    "\n",
    "# Inicializando o Faker\n",
    "fake = Faker('pt_BR')\n",
    "\n",
    "# Dicionário de cargos com setores e faixas salariais apropriadas\n",
    "cargos_setores_salarios = {\n",
    "    'Analista de Dados': ('TI', 5000, 12000),\n",
    "    'Engenheiro de Software': ('TI', 8000, 20000),\n",
    "    'Gerente de Projetos': ('Operações', 10000, 25000),\n",
    "    'Diretor Financeiro': ('Financeiro', 15000, 40000),\n",
    "    'Analista de RH': ('Recursos Humanos', 4000, 10000),\n",
    "    'Desenvolvedor Web': ('TI', 5000, 15000),\n",
    "    'Cientista de Dados': ('TI', 9000, 25000),\n",
    "    'Designer UX': ('Marketing', 5000, 14000),\n",
    "    'Administrador de Redes': ('TI', 6000, 14000),\n",
    "    'Consultor de Negócios': ('Vendas', 7000, 18000),\n",
    "    'Gerente de Vendas': ('Vendas', 9000, 22000),\n",
    "    'Analista Financeiro': ('Financeiro', 6000, 15000),\n",
    "    'Especialista em Logística': ('Logística', 5000, 13000),\n",
    "    'Pesquisador de Mercado': ('Pesquisa e Desenvolvimento', 5000, 12000),\n",
    "    'Coordenador de Marketing': ('Marketing', 8000, 18000)\n",
    "}\n",
    "\n",
    "# Gerando os dados\n",
    "dados = []\n",
    "for i in range(1, 15987):\n",
    "    sexo = random.choice(['Masculino', 'Feminino'])\n",
    "    nome = fake.name_male() if sexo == 'Masculino' else fake.name_female()\n",
    "\n",
    "    data_nascimento = fake.date_of_birth(minimum_age=18, maximum_age=65).strftime('%Y-%m-%d')\n",
    "    \n",
    "    # Escolhendo um cargo e obtendo setor e faixa salarial correspondentes\n",
    "    cargo, (setor, salario_min, salario_max) = random.choice(list(cargos_setores_salarios.items()))\n",
    "    salario = round(random.uniform(salario_min, salario_max), 2)\n",
    "\n",
    "    id_funcionario = i  # ID sequencial\n",
    "    \n",
    "    dados.append([id_funcionario, nome, data_nascimento, cargo, salario, sexo, setor])\n",
    "\n",
    "# Criando DataFrame\n",
    "colunas = ['ID', 'Nome', 'Data de Nascimento', 'Cargo', 'Salário', 'Sexo', 'Setor de Atuação']\n",
    "df = pd.DataFrame(dados, columns=colunas)\n",
    "\n",
    "# Exibir algumas linhas do DataFrame\n",
    "df.head()\n",
    "\n"
   ]
  },
  {
   "cell_type": "code",
   "execution_count": 6,
   "metadata": {},
   "outputs": [],
   "source": [
    "start_date = pd.to_datetime(\"2010-01-01\")\n",
    "end_date = pd.to_datetime(\"2025-12-31\")\n",
    "days_between = (end_date - start_date).days\n",
    "\n",
    "df[\"Data_admissao\"] = [start_date + pd.Timedelta(days=random.randint(0, days_between)) for _ in range(len(df))]\n"
   ]
  },
  {
   "cell_type": "code",
   "execution_count": 7,
   "metadata": {},
   "outputs": [],
   "source": [
    "# Cria a coluna \"data_demissão\" inicializada com NaT (Not a Time) para todas as linhas\n",
    "df[\"data_demissão\"] = pd.NaT\n",
    "\n",
    "# Seleciona aleatoriamente 30% dos índices do DataFrame\n",
    "demission_indices = df.sample(frac=0.3, random_state=42).index\n",
    "\n",
    "# Para cada linha selecionada, gera uma data de demissão que seja maior ou igual à Data_admissao\n",
    "for idx in demission_indices:\n",
    "    adm_date = df.loc[idx, \"Data_admissao\"]\n",
    "    # Calcula o número de dias disponíveis entre a admissão e a data final (end_date)\n",
    "    max_days = (end_date - adm_date).days\n",
    "    # Gera um número aleatório de dias entre 0 e max_days\n",
    "    random_days = random.randint(0, max_days)\n",
    "    df.loc[idx, \"data_demissão\"] = adm_date + pd.Timedelta(days=random_days)"
   ]
  },
  {
   "cell_type": "code",
   "execution_count": 8,
   "metadata": {},
   "outputs": [
    {
     "data": {
      "application/vnd.microsoft.datawrangler.viewer.v0+json": {
       "columns": [
        {
         "name": "index",
         "rawType": "int64",
         "type": "integer"
        },
        {
         "name": "ID",
         "rawType": "int64",
         "type": "integer"
        },
        {
         "name": "Nome",
         "rawType": "object",
         "type": "string"
        },
        {
         "name": "Data de Nascimento",
         "rawType": "object",
         "type": "string"
        },
        {
         "name": "Cargo",
         "rawType": "object",
         "type": "string"
        },
        {
         "name": "Salário",
         "rawType": "float64",
         "type": "float"
        },
        {
         "name": "Sexo",
         "rawType": "object",
         "type": "string"
        },
        {
         "name": "Setor de Atuação",
         "rawType": "object",
         "type": "string"
        },
        {
         "name": "Data_admissao",
         "rawType": "datetime64[ns]",
         "type": "datetime"
        },
        {
         "name": "data_demissão",
         "rawType": "datetime64[ns]",
         "type": "datetime"
        }
       ],
       "conversionMethod": "pd.DataFrame",
       "ref": "2156142f-5780-4539-9f4a-20cd20fe33f2",
       "rows": [
        [
         "0",
         "1",
         "Maria Luísa Vasconcelos",
         "1982-09-25",
         "Administrador de Redes",
         "11741.42",
         "Feminino",
         "TI",
         "2025-10-10 00:00:00",
         "2025-12-26 00:00:00"
        ],
        [
         "1",
         "2",
         "Sr. Léo Aragão",
         "1988-03-16",
         "Analista de Dados",
         "8811.35",
         "Masculino",
         "TI",
         "2016-12-21 00:00:00",
         null
        ],
        [
         "2",
         "3",
         "Esther Teixeira",
         "1992-12-03",
         "Especialista em Logística",
         "11473.27",
         "Feminino",
         "Logística",
         "2015-11-14 00:00:00",
         null
        ],
        [
         "3",
         "4",
         "Mateus Martins",
         "1985-11-28",
         "Analista Financeiro",
         "8025.21",
         "Masculino",
         "Financeiro",
         "2023-07-17 00:00:00",
         "2024-05-30 00:00:00"
        ],
        [
         "4",
         "5",
         "Bento Sales",
         "1968-11-18",
         "Coordenador de Marketing",
         "10034.75",
         "Masculino",
         "Marketing",
         "2018-10-03 00:00:00",
         null
        ]
       ],
       "shape": {
        "columns": 9,
        "rows": 5
       }
      },
      "text/html": [
       "<div>\n",
       "<style scoped>\n",
       "    .dataframe tbody tr th:only-of-type {\n",
       "        vertical-align: middle;\n",
       "    }\n",
       "\n",
       "    .dataframe tbody tr th {\n",
       "        vertical-align: top;\n",
       "    }\n",
       "\n",
       "    .dataframe thead th {\n",
       "        text-align: right;\n",
       "    }\n",
       "</style>\n",
       "<table border=\"1\" class=\"dataframe\">\n",
       "  <thead>\n",
       "    <tr style=\"text-align: right;\">\n",
       "      <th></th>\n",
       "      <th>ID</th>\n",
       "      <th>Nome</th>\n",
       "      <th>Data de Nascimento</th>\n",
       "      <th>Cargo</th>\n",
       "      <th>Salário</th>\n",
       "      <th>Sexo</th>\n",
       "      <th>Setor de Atuação</th>\n",
       "      <th>Data_admissao</th>\n",
       "      <th>data_demissão</th>\n",
       "    </tr>\n",
       "  </thead>\n",
       "  <tbody>\n",
       "    <tr>\n",
       "      <th>0</th>\n",
       "      <td>1</td>\n",
       "      <td>Maria Luísa Vasconcelos</td>\n",
       "      <td>1982-09-25</td>\n",
       "      <td>Administrador de Redes</td>\n",
       "      <td>11741.42</td>\n",
       "      <td>Feminino</td>\n",
       "      <td>TI</td>\n",
       "      <td>2025-10-10</td>\n",
       "      <td>2025-12-26</td>\n",
       "    </tr>\n",
       "    <tr>\n",
       "      <th>1</th>\n",
       "      <td>2</td>\n",
       "      <td>Sr. Léo Aragão</td>\n",
       "      <td>1988-03-16</td>\n",
       "      <td>Analista de Dados</td>\n",
       "      <td>8811.35</td>\n",
       "      <td>Masculino</td>\n",
       "      <td>TI</td>\n",
       "      <td>2016-12-21</td>\n",
       "      <td>NaT</td>\n",
       "    </tr>\n",
       "    <tr>\n",
       "      <th>2</th>\n",
       "      <td>3</td>\n",
       "      <td>Esther Teixeira</td>\n",
       "      <td>1992-12-03</td>\n",
       "      <td>Especialista em Logística</td>\n",
       "      <td>11473.27</td>\n",
       "      <td>Feminino</td>\n",
       "      <td>Logística</td>\n",
       "      <td>2015-11-14</td>\n",
       "      <td>NaT</td>\n",
       "    </tr>\n",
       "    <tr>\n",
       "      <th>3</th>\n",
       "      <td>4</td>\n",
       "      <td>Mateus Martins</td>\n",
       "      <td>1985-11-28</td>\n",
       "      <td>Analista Financeiro</td>\n",
       "      <td>8025.21</td>\n",
       "      <td>Masculino</td>\n",
       "      <td>Financeiro</td>\n",
       "      <td>2023-07-17</td>\n",
       "      <td>2024-05-30</td>\n",
       "    </tr>\n",
       "    <tr>\n",
       "      <th>4</th>\n",
       "      <td>5</td>\n",
       "      <td>Bento Sales</td>\n",
       "      <td>1968-11-18</td>\n",
       "      <td>Coordenador de Marketing</td>\n",
       "      <td>10034.75</td>\n",
       "      <td>Masculino</td>\n",
       "      <td>Marketing</td>\n",
       "      <td>2018-10-03</td>\n",
       "      <td>NaT</td>\n",
       "    </tr>\n",
       "  </tbody>\n",
       "</table>\n",
       "</div>"
      ],
      "text/plain": [
       "   ID                     Nome Data de Nascimento                      Cargo  \\\n",
       "0   1  Maria Luísa Vasconcelos         1982-09-25     Administrador de Redes   \n",
       "1   2           Sr. Léo Aragão         1988-03-16          Analista de Dados   \n",
       "2   3          Esther Teixeira         1992-12-03  Especialista em Logística   \n",
       "3   4           Mateus Martins         1985-11-28        Analista Financeiro   \n",
       "4   5              Bento Sales         1968-11-18   Coordenador de Marketing   \n",
       "\n",
       "    Salário       Sexo Setor de Atuação Data_admissao data_demissão  \n",
       "0  11741.42   Feminino               TI    2025-10-10    2025-12-26  \n",
       "1   8811.35  Masculino               TI    2016-12-21           NaT  \n",
       "2  11473.27   Feminino        Logística    2015-11-14           NaT  \n",
       "3   8025.21  Masculino       Financeiro    2023-07-17    2024-05-30  \n",
       "4  10034.75  Masculino        Marketing    2018-10-03           NaT  "
      ]
     },
     "execution_count": 8,
     "metadata": {},
     "output_type": "execute_result"
    }
   ],
   "source": [
    "df.head()"
   ]
  }
 ],
 "metadata": {
  "kernelspec": {
   "display_name": "base",
   "language": "python",
   "name": "python3"
  },
  "language_info": {
   "codemirror_mode": {
    "name": "ipython",
    "version": 3
   },
   "file_extension": ".py",
   "mimetype": "text/x-python",
   "name": "python",
   "nbconvert_exporter": "python",
   "pygments_lexer": "ipython3",
   "version": "3.11.7"
  }
 },
 "nbformat": 4,
 "nbformat_minor": 2
}
